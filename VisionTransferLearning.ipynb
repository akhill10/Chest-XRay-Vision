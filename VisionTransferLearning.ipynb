{
 "cells": [
  {
   "cell_type": "code",
   "execution_count": null,
   "metadata": {},
   "outputs": [],
   "source": [
    "# http://pytorch.org/\n",
    "from os.path import exists\n",
    "from wheel.pep425tags import get_abbr_impl, get_impl_ver, get_abi_tag\n",
    "platform = '{}{}-{}'.format(get_abbr_impl(), get_impl_ver(), get_abi_tag())\n",
    "cuda_output = !ldconfig -p|grep cudart.so|sed -e 's/.*\\.\\([0-9]*\\)\\.\\([0-9]*\\)$/cu\\1\\2/'\n",
    "accelerator = cuda_output[0] if exists('/dev/nvidia0') else 'cpu'\n",
    "\n",
    "!pip install -q http://download.pytorch.org/whl/{accelerator}/torch-0.4.1-{platform}-linux_x86_64.whl torchvision\n",
    "import torch"
   ]
  },
  {
   "cell_type": "code",
   "execution_count": null,
   "metadata": {},
   "outputs": [],
   "source": [
    "import torchvision \n",
    "import torch.nn as nn\n",
    "import torch.optim as optim \n",
    "from torchvision import datasets , models , transforms \n",
    "from torch.optim import lr_scheduler \n",
    "import numpy as np \n",
    "import matplotlib.pyplot as plt \n",
    "import time \n",
    "import os \n",
    "import copy "
   ]
  },
  {
   "cell_type": "code",
   "execution_count": null,
   "metadata": {},
   "outputs": [],
   "source": [
    "# As VGG16 requires the data in certain form so ,we are transforming the data as per required(normalization)\n",
    "train_datatransform = transforms.Compose([transforms.RandomResizedCrop(224),\n",
    "                                         transforms.RandomHorizontalFlip(),\n",
    "                                         transforms.ToTensor(),\n",
    "                                         transforms.Normalize([0.485 , 0.456 ,0.406] ,[0.229 , 0.224 , 0.225])])\n",
    "test_datatrannsform = transforms.Compose([transforms.RandomResizedCrop(224), \n",
    "                                         transforms.RandomHorizontalFlip(),\n",
    "                                         transforms.ToTensor(), \n",
    "                                         transforms.Normalize([0.485 ,0.456 ,0.406] ,[0.229 , 0.224 ,0.225])])"
   ]
  },
  {
   "cell_type": "code",
   "execution_count": null,
   "metadata": {},
   "outputs": [],
   "source": [
    "#Yeah , we need to export the data that we have created \n",
    "train_image_dataset = datasets.ImageFolder(root='./Visiondataset/train',transform=train_datatransform )\n",
    "test_image_dataset = datasets.ImageFolder(root ='./Visiondataset/test', transform=test_datatrannsform)"
   ]
  },
  {
   "cell_type": "code",
   "execution_count": null,
   "metadata": {},
   "outputs": [],
   "source": [
    "#DataLoader - Load the train and test data in the form of batches\n",
    "\n",
    "train_dataloader = torch.utils.data.DataLoader(train_image_dataset , batch_size =4 ,shuffle=True , num_workers=4 )\n",
    "test_dataloader = torch.utils.data.DataLoader(test_image_dataset , batch_size = 4 , shuffle= True , num_workers=4)"
   ]
  },
  {
   "cell_type": "code",
   "execution_count": null,
   "metadata": {},
   "outputs": [],
   "source": [
    "class_names = train_image_dataset.classes\n",
    "print(class_names)\n",
    "device = torch.device(\"cuda:0\" if torch.cuda.is_available() else \"cpu\")\n",
    "print(device)"
   ]
  },
  {
   "cell_type": "code",
   "execution_count": null,
   "metadata": {},
   "outputs": [],
   "source": [
    "!pip install Pillow==4.0.0\n",
    "!pip install PIL\n",
    "!pip install image\n",
    "import PIL"
   ]
  },
  {
   "cell_type": "code",
   "execution_count": null,
   "metadata": {},
   "outputs": [],
   "source": [
    "def imshow(inp, title=None):\n",
    "    \"\"\"Imshow for Tensor.\"\"\"\n",
    "    inp = inp.numpy().transpose((1, 2, 0))\n",
    "    mean = np.array([0.485, 0.456, 0.406])\n",
    "    std = np.array([0.229, 0.224, 0.225])\n",
    "    inp = std * inp + mean\n",
    "    inp = np.clip(inp, 0, 1)\n",
    "    plt.imshow(inp)\n",
    "    if title is not None:\n",
    "        plt.title(title)\n",
    "    plt.pause(0.001)  # pause a bit so that plots are updated\n",
    "\n",
    "\n",
    "# Get a batch of training data\n",
    "inputs, classes = next(iter(train_dataloader))\n",
    "\n",
    "# Make a grid from batch\n",
    "out = torchvision.utils.make_grid(inputs)\n",
    "\n",
    "imshow(out, title=[class_names[x] for x in classes])\n"
   ]
  },
  {
   "cell_type": "code",
   "execution_count": null,
   "metadata": {},
   "outputs": [],
   "source": [
    "def train_model(model , criterion , optimizer , scheduler ,num_epochs):\n",
    "  since =time.time()\n",
    "  best_acc =0.0\n",
    "  best_model_wts = copy.deepcopy(model.state_dict())\n",
    "  \n",
    "  for epoch in range(num_epochs):\n",
    "    print('Epoch {}/{}'.format(epoch , num_epochs -1))\n",
    "    print('-'*10)\n",
    "    \n",
    "    scheduler.step()\n",
    "    model.train()\n",
    "    \n",
    "    running_loss = 0.0 \n",
    "    running_corrects = 0\n",
    "    \n",
    "    for inputs , labels in train_dataloader:\n",
    "      inputs = inputs.to(device)\n",
    "      labels = labels.to(device)\n",
    "      \n",
    "      optimizer.zero_grad()\n",
    "      \n",
    "      outputs = model(inputs)\n",
    "      _, preds = torch.max(outputs , 1)\n",
    "      loss = criterion(outputs , labels)\n",
    "      \n",
    "      loss.backward()\n",
    "      optimizer.step()\n",
    "      \n",
    "      running_loss += loss.item() *inputs.size(0)\n",
    "      running_corrects += torch.sum(preds == labels.data)\n",
    "      \n",
    "    epoch_loss = running_loss / len(train_image_dataset)\n",
    "    epoch_acc = running_corrects.double() / len(train_image_dataset)\n",
    "    \n",
    "    print('Loss : {}  Acc :{}'.format(epoch_loss , epoch_acc))\n",
    "    \n",
    "    if epoch_acc > best_acc:\n",
    "      best_acc =epoch_acc \n",
    "      best_model_wts = copy.deepcopy(model.state_dict())\n",
    "    \n",
    "  time_elapsed = time.time() - since\n",
    "  print('Training complete in {:.0f}m {:.0f}s'.format(\n",
    "        time_elapsed // 60, time_elapsed % 60))\n",
    "    \n",
    "    \n",
    "    \n",
    "  model.load_state_dict(best_model_wts)\n",
    "  return model"
   ]
  },
  {
   "cell_type": "code",
   "execution_count": null,
   "metadata": {},
   "outputs": [],
   "source": [
    "def set_require_grad(model , feature_extract):\n",
    "  if feature_extract:\n",
    "    for param in model.parameters():\n",
    "      param.require_grad=False"
   ]
  },
  {
   "cell_type": "code",
   "execution_count": null,
   "metadata": {},
   "outputs": [],
   "source": []
  }
 ],
 "metadata": {
  "kernelspec": {
   "display_name": "Python 3",
   "language": "python",
   "name": "python3"
  },
  "language_info": {
   "codemirror_mode": {
    "name": "ipython",
    "version": 3
   },
   "file_extension": ".py",
   "mimetype": "text/x-python",
   "name": "python",
   "nbconvert_exporter": "python",
   "pygments_lexer": "ipython3",
   "version": "3.7.0"
  }
 },
 "nbformat": 4,
 "nbformat_minor": 2
}

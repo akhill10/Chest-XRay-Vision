{
 "cells": [
  {
   "cell_type": "code",
   "execution_count": 1,
   "metadata": {
    "colab": {
     "base_uri": "https://localhost:8080/",
     "height": 34
    },
    "colab_type": "code",
    "id": "OYL8Z8Og_yOQ",
    "outputId": "0efe6d90-16dd-4a74-f2e4-2f5c47cef278"
   },
   "outputs": [
    {
     "name": "stdout",
     "output_type": "stream",
     "text": [
      "fatal: destination path 'Visiondataset' already exists and is not an empty directory.\n"
     ]
    }
   ],
   "source": [
    "! git clone https://github.com/pawanakhil/Visiondataset.git"
   ]
  },
  {
   "cell_type": "code",
   "execution_count": 0,
   "metadata": {
    "colab": {},
    "colab_type": "code",
    "id": "X1U7z39p_9k1"
   },
   "outputs": [],
   "source": [
    "# http://pytorch.org/\n",
    "from os.path import exists\n",
    "from wheel.pep425tags import get_abbr_impl, get_impl_ver, get_abi_tag\n",
    "platform = '{}{}-{}'.format(get_abbr_impl(), get_impl_ver(), get_abi_tag())\n",
    "cuda_output = !ldconfig -p|grep cudart.so|sed -e 's/.*\\.\\([0-9]*\\)\\.\\([0-9]*\\)$/cu\\1\\2/'\n",
    "accelerator = cuda_output[0] if exists('/dev/nvidia0') else 'cpu'\n",
    "\n",
    "!pip install -q http://download.pytorch.org/whl/{accelerator}/torch-0.4.1-{platform}-linux_x86_64.whl torchvision\n",
    "import torch"
   ]
  },
  {
   "cell_type": "code",
   "execution_count": 0,
   "metadata": {
    "colab": {},
    "colab_type": "code",
    "id": "_GMRseDHAC-0"
   },
   "outputs": [],
   "source": [
    "import torchvision \n",
    "import torch.nn as nn\n",
    "import torch.optim as optim \n",
    "from torchvision import datasets , models , transforms \n",
    "from torch.optim import lr_scheduler \n",
    "import numpy as np \n",
    "import matplotlib.pyplot as plt \n",
    "import time \n",
    "import os \n",
    "import copy \n"
   ]
  },
  {
   "cell_type": "code",
   "execution_count": 0,
   "metadata": {
    "colab": {},
    "colab_type": "code",
    "id": "9bf1fLoaAIsf"
   },
   "outputs": [],
   "source": [
    "# As ResNet 18 requires the data in certain form so ,we are transforming the data as per required(normalization)\n",
    "train_datatransform = transforms.Compose([transforms.RandomResizedCrop(224),\n",
    "                                         transforms.RandomHorizontalFlip(),\n",
    "                                         transforms.ToTensor(),\n",
    "                                         transforms.Normalize([0.485 , 0.456 ,0.406] ,[0.229 , 0.224 , 0.225])])\n",
    "test_datatrannsform = transforms.Compose([transforms.RandomResizedCrop(224), \n",
    "                                         transforms.RandomHorizontalFlip(),\n",
    "                                         transforms.ToTensor(), \n",
    "                                         transforms.Normalize([0.485 ,0.456 ,0.406] ,[0.229 , 0.224 ,0.225])])"
   ]
  },
  {
   "cell_type": "code",
   "execution_count": 0,
   "metadata": {
    "colab": {},
    "colab_type": "code",
    "id": "KHI1M4G6ANEQ"
   },
   "outputs": [],
   "source": [
    "#Yeah , we need to export the data that we have created \n",
    "train_image_dataset = datasets.ImageFolder(root='./Visiondataset/train',transform=train_datatransform )\n",
    "test_image_dataset = datasets.ImageFolder(root ='./Visiondataset/test', transform=test_datatrannsform)"
   ]
  },
  {
   "cell_type": "code",
   "execution_count": 0,
   "metadata": {
    "colab": {},
    "colab_type": "code",
    "id": "xTOs6REJAQFG"
   },
   "outputs": [],
   "source": [
    "#DataLoader - Load the train and test data in the form of batches\n",
    "\n",
    "train_dataloader = torch.utils.data.DataLoader(train_image_dataset , batch_size =4 ,shuffle=True , num_workers=4 )\n",
    "test_dataloader = torch.utils.data.DataLoader(test_image_dataset , batch_size = 4 , shuffle= True , num_workers=4)"
   ]
  },
  {
   "cell_type": "code",
   "execution_count": 17,
   "metadata": {
    "colab": {
     "base_uri": "https://localhost:8080/",
     "height": 52
    },
    "colab_type": "code",
    "id": "4Ha8vQQdAXrE",
    "outputId": "0443e79f-df08-49bf-be45-a85d66e6e459"
   },
   "outputs": [
    {
     "name": "stdout",
     "output_type": "stream",
     "text": [
      "['cardiomegaly', 'normal', 'opacity']\n",
      "cuda:0\n"
     ]
    }
   ],
   "source": [
    "class_names = train_image_dataset.classes\n",
    "print(class_names)\n",
    "device = torch.device(\"cuda:0\" if torch.cuda.is_available() else \"cpu\")\n",
    "print(device)"
   ]
  },
  {
   "cell_type": "code",
   "execution_count": 9,
   "metadata": {
    "colab": {
     "base_uri": "https://localhost:8080/",
     "height": 332
    },
    "colab_type": "code",
    "id": "RpQd86qHAqxU",
    "outputId": "256a0491-6251-4a59-aac6-478f21136f08"
   },
   "outputs": [
    {
     "name": "stdout",
     "output_type": "stream",
     "text": [
      "Collecting Pillow==4.0.0\n",
      "  Using cached https://files.pythonhosted.org/packages/37/e8/b3fbf87b0188d22246678f8cd61e23e31caa1769ebc06f1664e2e5fe8a17/Pillow-4.0.0-cp36-cp36m-manylinux1_x86_64.whl\n",
      "Requirement already satisfied: olefile in /usr/local/lib/python3.6/dist-packages (from Pillow==4.0.0) (0.46)\n",
      "\u001b[31mtorchvision 0.2.1 has requirement pillow>=4.1.1, but you'll have pillow 4.0.0 which is incompatible.\u001b[0m\n",
      "Installing collected packages: Pillow\n",
      "  Found existing installation: Pillow 5.3.0\n",
      "    Uninstalling Pillow-5.3.0:\n",
      "      Successfully uninstalled Pillow-5.3.0\n",
      "Successfully installed Pillow-4.0.0\n",
      "Collecting PIL\n",
      "\u001b[31m  Could not find a version that satisfies the requirement PIL (from versions: )\u001b[0m\n",
      "\u001b[31mNo matching distribution found for PIL\u001b[0m\n",
      "Requirement already satisfied: image in /usr/local/lib/python3.6/dist-packages (1.5.27)\n",
      "Requirement already satisfied: django in /usr/local/lib/python3.6/dist-packages (from image) (2.1.4)\n",
      "Requirement already satisfied: pillow in /usr/local/lib/python3.6/dist-packages (from image) (4.0.0)\n",
      "Requirement already satisfied: pytz in /usr/local/lib/python3.6/dist-packages (from django->image) (2018.7)\n",
      "Requirement already satisfied: olefile in /usr/local/lib/python3.6/dist-packages (from pillow->image) (0.46)\n"
     ]
    }
   ],
   "source": [
    "!pip install Pillow==4.0.0\n",
    "!pip install PIL\n",
    "!pip install image\n",
    "import PIL"
   ]
  },
  {
   "cell_type": "code",
   "execution_count": 18,
   "metadata": {
    "colab": {
     "base_uri": "https://localhost:8080/",
     "height": 175
    },
    "colab_type": "code",
    "id": "dbwKzgrKBHtM",
    "outputId": "32aa4b94-6b03-4ffe-ae30-6a1dc9b24723"
   },
   "outputs": [
    {
     "data": {
      "image/png": "[encoded data removed]",
      "text/plain": [
       "<matplotlib.figure.Figure at 0x7ff4bafee128>"
      ]
     },
     "metadata": {
      "tags": []
     },
     "output_type": "display_data"
    }
   ],
   "source": [
    "def imshow(inp, title=None):\n",
    "    \"\"\"Imshow for Tensor.\"\"\"\n",
    "    inp = inp.numpy().transpose((1, 2, 0))\n",
    "    mean = np.array([0.485, 0.456, 0.406])\n",
    "    std = np.array([0.229, 0.224, 0.225])\n",
    "    inp = std * inp + mean\n",
    "    inp = np.clip(inp, 0, 1)\n",
    "    plt.imshow(inp)\n",
    "    if title is not None:\n",
    "        plt.title(title)\n",
    "    plt.pause(0.001)  # pause a bit so that plots are updated\n",
    "\n",
    "\n",
    "# Get a batch of training data\n",
    "inputs, classes = next(iter(train_dataloader))\n",
    "\n",
    "# Make a grid from batch\n",
    "out = torchvision.utils.make_grid(inputs)\n",
    "\n",
    "imshow(out, title=[class_names[x] for x in classes])\n"
   ]
  },
  {
   "cell_type": "code",
   "execution_count": 0,
   "metadata": {
    "colab": {},
    "colab_type": "code",
    "id": "5--HwZ-5Bh9V"
   },
   "outputs": [],
   "source": [
    "def train_model(model , criterion , optimizer , scheduler ,num_epochs):\n",
    "  since =time.time()\n",
    "  best_acc =0.0\n",
    "  best_model_wts = copy.deepcopy(model.state_dict())\n",
    "  \n",
    "  for epoch in range(num_epochs):\n",
    "    print('Epoch {}/{}'.format(epoch , num_epochs -1))\n",
    "    print('-'*10)\n",
    "    \n",
    "    scheduler.step()\n",
    "    model.train()\n",
    "    \n",
    "    running_loss = 0.0 \n",
    "    running_corrects = 0\n",
    "    \n",
    "    for inputs , labels in train_dataloader:\n",
    "      inputs = inputs.to(device)\n",
    "      labels = labels.to(device)\n",
    "      \n",
    "      optimizer.zero_grad()\n",
    "      \n",
    "      outputs = model(inputs)\n",
    "      _, preds = torch.max(outputs , 1)\n",
    "      loss = criterion(outputs , labels)\n",
    "      \n",
    "      loss.backward()\n",
    "      optimizer.step()\n",
    "      \n",
    "      running_loss += loss.item() *inputs.size(0)\n",
    "      running_corrects += torch.sum(preds == labels.data)\n",
    "      \n",
    "    epoch_loss = running_loss / len(train_image_dataset)\n",
    "    epoch_acc = running_corrects.double() / len(train_image_dataset)\n",
    "    \n",
    "    print('Loss : {}  Acc :{}'.format(epoch_loss , epoch_acc))\n",
    "    \n",
    "    if epoch_acc > best_acc:\n",
    "      best_acc =epoch_acc \n",
    "      best_model_wts = copy.deepcopy(model.state_dict())\n",
    "    \n",
    "  time_elapsed = time.time() - since\n",
    "  print('Training complete in {:.0f}m {:.0f}s'.format(\n",
    "        time_elapsed // 60, time_elapsed % 60))\n",
    "    \n",
    "    \n",
    "    \n",
    "  model.load_state_dict(best_model_wts)\n",
    "  return model\n",
    "  "
   ]
  },
  {
   "cell_type": "code",
   "execution_count": 0,
   "metadata": {
    "colab": {},
    "colab_type": "code",
    "id": "o7opN-l2EgUW"
   },
   "outputs": [],
   "source": [
    "def set_require_grad(model , feature_extract):\n",
    "  if feature_extract:\n",
    "    for param in model.parameters():\n",
    "      param.require_grad=False"
   ]
  },
  {
   "cell_type": "code",
   "execution_count": 0,
   "metadata": {
    "colab": {},
    "colab_type": "code",
    "id": "lOFjZqpJE35V"
   },
   "outputs": [],
   "source": [
    "model_ft = models.vgg16_bn(pretrained =True)\n",
    "set_require_grad(model_ft,False)\n",
    "num_features = model_ft.classifier[6].in_features\n",
    "features = list(model_ft.classifier.children())[:-1] # Remove last layer\n",
    "features.extend([nn.Linear(num_features, len(class_names))]) # Add our layer with 4 outputs\n",
    "model_ft.classifier = nn.Sequential(*features)\n",
    "\n",
    "model_ft = model_ft.to(device)\n",
    "\n",
    "criterion = nn.CrossEntropyLoss()\n",
    "\n",
    "optimizer_ft = optim.SGD(model_ft.parameters() , lr = 0.001 , momentum =0.9)\n",
    "\n",
    "exp_lr_scheduler = lr_scheduler.StepLR(optimizer_ft,step_size =7 ,gamma=0.1)\n"
   ]
  },
  {
   "cell_type": "code",
   "execution_count": 32,
   "metadata": {
    "colab": {
     "base_uri": "https://localhost:8080/",
     "height": 1337
    },
    "colab_type": "code",
    "id": "awGTIhmuGPYE",
    "outputId": "16b3746c-96a1-4fde-fb1a-f3087ab6431c"
   },
   "outputs": [
    {
     "name": "stdout",
     "output_type": "stream",
     "text": [
      "Epoch 0/24\n",
      "----------\n",
      "Loss : 0.48583031741969557  Acc :0.819277108433735\n",
      "Epoch 1/24\n",
      "----------\n",
      "Loss : 0.5052522749426853  Acc :0.7891566265060241\n",
      "Epoch 2/24\n",
      "----------\n",
      "Loss : 0.44068671152534256  Acc :0.8283132530120483\n",
      "Epoch 3/24\n",
      "----------\n",
      "Loss : 0.48841703907552975  Acc :0.8072289156626506\n",
      "Epoch 4/24\n",
      "----------\n",
      "Loss : 0.49121488828256904  Acc :0.8132530120481928\n",
      "Epoch 5/24\n",
      "----------\n",
      "Loss : 0.46928948594863157  Acc :0.8162650602409639\n",
      "Epoch 6/24\n",
      "----------\n",
      "Loss : 0.46190950831016864  Acc :0.8012048192771085\n",
      "Epoch 7/24\n",
      "----------\n",
      "Loss : 0.4750575507620731  Acc :0.8253012048192772\n",
      "Epoch 8/24\n",
      "----------\n",
      "Loss : 0.4840868289571211  Acc :0.8132530120481928\n",
      "Epoch 9/24\n",
      "----------\n",
      "Loss : 0.49027308229222355  Acc :0.8102409638554218\n",
      "Epoch 10/24\n",
      "----------\n",
      "Loss : 0.4931270081594766  Acc :0.8072289156626506\n",
      "Epoch 11/24\n",
      "----------\n",
      "Loss : 0.48298777316708164  Acc :0.8162650602409639\n",
      "Epoch 12/24\n",
      "----------\n",
      "Loss : 0.5089682748159731  Acc :0.7921686746987953\n",
      "Epoch 13/24\n",
      "----------\n",
      "Loss : 0.4476140651358179  Acc :0.819277108433735\n",
      "Epoch 14/24\n",
      "----------\n",
      "Loss : 0.5090670605380851  Acc :0.8072289156626506\n",
      "Epoch 15/24\n",
      "----------\n",
      "Loss : 0.47610212485474274  Acc :0.8132530120481928\n",
      "Epoch 16/24\n",
      "----------\n",
      "Loss : 0.4589530285223421  Acc :0.8313253012048193\n",
      "Epoch 17/24\n",
      "----------\n",
      "Loss : 0.49225421590977403  Acc :0.8072289156626506\n",
      "Epoch 18/24\n",
      "----------\n",
      "Loss : 0.44814497699220496  Acc :0.822289156626506\n",
      "Epoch 19/24\n",
      "----------\n",
      "Loss : 0.4500656688069723  Acc :0.8253012048192772\n",
      "Epoch 20/24\n",
      "----------\n",
      "Loss : 0.5331795842173588  Acc :0.8102409638554218\n",
      "Epoch 21/24\n",
      "----------\n",
      "Loss : 0.49153219414762706  Acc :0.8102409638554218\n",
      "Epoch 22/24\n",
      "----------\n",
      "Loss : 0.5062699116856219  Acc :0.8042168674698795\n",
      "Epoch 23/24\n",
      "----------\n",
      "Loss : 0.45814643584820164  Acc :0.822289156626506\n",
      "Epoch 24/24\n",
      "----------\n",
      "Loss : 0.4816874373390014  Acc :0.8102409638554218\n",
      "Training complete in 12m 22s\n"
     ]
    }
   ],
   "source": [
    "model_ft = train_model(model_ft , criterion , optimizer_ft , exp_lr_scheduler , num_epochs = 25)"
   ]
  },
  {
   "cell_type": "code",
   "execution_count": 0,
   "metadata": {
    "colab": {},
    "colab_type": "code",
    "id": "xLccNGemxQGD"
   },
   "outputs": [],
   "source": [
    "def eval_model(model , criterion):\n",
    "  \n",
    "  model.eval()\n",
    "  \n",
    "  running_loss = 0.0 \n",
    "  running_corrects = 0\n",
    "  \n",
    "  for inputs , labels in test_dataloader :\n",
    "    inputs = inputs.to(device)\n",
    "    labels = labels.to(device)\n",
    "    \n",
    "    outputs = model(inputs)\n",
    "    _, preds = torch.max(outputs,1)\n",
    "    loss = criterion(outputs , labels)\n",
    "    \n",
    "    running_loss += loss.item() *inputs.size(0)\n",
    "    running_corrects += torch.sum(preds == labels.data)\n",
    "  \n",
    "        \n",
    "  loss = running_loss / len(test_image_dataset)\n",
    "  acc = running_corrects.double() / len(test_image_dataset)\n",
    "    \n",
    "  print('Loss : {}  Acc :{}'.format(loss , acc))\n",
    "    \n",
    "    \n",
    "    \n",
    "    \n",
    "    "
   ]
  },
  {
   "cell_type": "code",
   "execution_count": 34,
   "metadata": {
    "colab": {
     "base_uri": "https://localhost:8080/",
     "height": 34
    },
    "colab_type": "code",
    "id": "WQijHYWdyn7d",
    "outputId": "3ac912f2-3d89-42b3-f508-739e1efe3182"
   },
   "outputs": [
    {
     "name": "stdout",
     "output_type": "stream",
     "text": [
      "Loss : 1.1830602884292603  Acc :0.5\n"
     ]
    }
   ],
   "source": [
    "eval_model(model_ft , criterion)"
   ]
  }
 ],
 "metadata": {
  "accelerator": "GPU",
  "colab": {
   "name": "Vision-Transfer Learning.ipynb",
   "provenance": [],
   "version": "0.3.2"
  },
  "kernelspec": {
   "display_name": "Python 3",
   "language": "python",
   "name": "python3"
  },
  "language_info": {
   "codemirror_mode": {
    "name": "ipython",
    "version": 3
   },
   "file_extension": ".py",
   "mimetype": "text/x-python",
   "name": "python",
   "nbconvert_exporter": "python",
   "pygments_lexer": "ipython3",
   "version": "3.7.0"
  }
 },
 "nbformat": 4,
 "nbformat_minor": 1
}

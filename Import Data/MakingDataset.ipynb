{
 "cells": [
  {
   "cell_type": "code",
   "execution_count": null,
   "metadata": {},
   "outputs": [],
   "source": [
    "import json\n",
    "from pprint import pprint\n",
    "\n",
    "dic = {}\n",
    "with open('data_new.json') as data_file:\n",
    "    data = json.load(data_file)\n",
    "    lst = []\n",
    "    n=0\n",
    "    print(len(data))\n",
    "    for  i in data:\n",
    "        # print i\n",
    "        dic[i] = \"/\".join(data[i]['items'])"
   ]
  },
  {
   "cell_type": "code",
   "execution_count": null,
   "metadata": {},
   "outputs": [],
   "source": [
    "c=0\n",
    "st=\"\"\n",
    "new_dict={}\n",
    "check = [\"normal\",\"opacity\", \"cardiomegaly\",\"calcinosis\", \"lung/hypoinflation\",\"calcified granuloma\",\"thoracic vertebrae/degenerative\", \"lung/hyperdistention\", \"spine/degenerative \",\"catheters, indwelling\", \"granulomatous disease\", \"nodule\",\"surgical instruments\",\"scoliosis\", \"spondylosis\"]\n",
    "for j in dic:\n",
    "#     print dic[j]\n",
    "    #     st = st + j\n",
    "    for i in check:\n",
    "\n",
    "        if i in dic[j].lower():\n",
    "            st+=i\n",
    "#             if i==\"nodule\":\n",
    "#                 st=\"nodule\"\n",
    "#                 break\n",
    "        \n",
    "    if st == \"\":\n",
    "        st += \"missing\"\n",
    "    new_dict[j] = st\n",
    "    \n",
    "    st=\"\"\n",
    "    \n",
    "#     if \"opacity\" in dic[j].lower():\n",
    "#         print dic[j].lower()\n",
    "#         c+=1\n",
    "# print c\n",
    "# print new_dict"
   ]
  },
  {
   "cell_type": "code",
   "execution_count": null,
   "metadata": {},
   "outputs": [],
   "source": [
    "from collections import Counter\n",
    "c = Counter( (new_dict.values()) )\n",
    "\n",
    "# print c.items()\n",
    "\n",
    "sorted(c)\n",
    "c = dict(c)\n",
    "print(c)"
   ]
  },
  {
   "cell_type": "code",
   "execution_count": null,
   "metadata": {},
   "outputs": [],
   "source": [
    "from operator import itemgetter\n",
    "sort = sorted(c.items(), key=itemgetter(1))"
   ]
  },
  {
   "cell_type": "code",
   "execution_count": null,
   "metadata": {},
   "outputs": [],
   "source": [
    "labels = sorted([i for i in sort[-4:] if i[0]!=\"missing\"], key=lambda x: x[1])\n",
    "print (labels)"
   ]
  },
  {
   "cell_type": "code",
   "execution_count": null,
   "metadata": {},
   "outputs": [],
   "source": [
    "from collections import defaultdict\n",
    "\n",
    "index_list = defaultdict(list)\n",
    "\n",
    "for key, value in new_dict.items():\n",
    "    index_list[value].append(key)"
   ]
  },
  {
   "cell_type": "code",
   "execution_count": null,
   "metadata": {},
   "outputs": [],
   "source": [
    "train_images_dict = {}\n",
    "test_images_dict={}\n",
    "for  i in index_list:\n",
    "   # print (i)\n",
    "    if i== \"normal\":\n",
    "        train_images_dict[\"normal\"]=index_list[i][:260]\n",
    "        test_images_dict[\"normal\"] = index_list[i][260:]\n",
    "    elif i==\"opacity\":\n",
    "             train_images_dict[i]=index_list[i][:41]\n",
    "             test_images_dict[i] = index_list[i][41:]\n",
    "    elif i==\"cardiomegaly\":\n",
    "             train_images_dict[i]=index_list[i][:31]\n",
    "             test_images_dict[i] = index_list[i][31:]\n",
    "#     elif i==\"lung/hypoinflation\":\n",
    "#         train_images_dict[\"abnormal\"]=index_list[i][:229]\n",
    "#         test_images_dict[\"abnormal\"] = index_list[i][229:249]\n",
    "#     elif i==\"calcified granuloma\":\n",
    "#         train_images_dict[\"abnormal\"]+=index_list[i][:243]\n",
    "#         test_images_dict[\"abnormal\"] += index_list[i][243:263]\n",
    "#     elif i==\"thoracic vertebrae/degenerative\":\n",
    "#         train_images_dict[\"abnormal\"]+=index_list[i][:218]\n",
    "#         test_images_dict[\"abnormal\"] += index_list[i][218:238]\n",
    "#     elif i==\"lung/hyperdistention\":\n",
    "#         train_images_dict[\"abnormal\"]+=index_list[i][:190]\n",
    "#         test_images_dict[\"abnormal\"] += index_list[i][190:210]\n",
    "#     elif i==\"surgical instruments\":\n",
    "#         train_images_dict[\"abnormal\"]+=index_list[i][:71]\n",
    "#         test_images_dict[\"abnormal\"] += index_list[i][71:86]\n",
    "#     elif i==\"catheters, indwelling\":\n",
    "#         train_images_dict[\"abnormal\"]+=index_list[i][:100]\n",
    "#         test_images_dict[\"abnormal\"] += index_list[i][100:112] \n",
    "#     elif i==\"calcinosis\":\n",
    "#         train_images_dict[\"abnormal\"]+=index_list[i][:146]\n",
    "#         test_images_dict[\"abnormal\"] += index_list[i][146:166] \n",
    "    \n",
    "   # elif i==\"nodule\" :\n",
    "     #   train_images_dict[i]=index_list[i][:54]\n",
    "      #  test_images_dict[i] = index_list[i][49:]\n",
    "   # elif i==\"calcinosisnodule\":\n",
    "    #    train_images_dict[\"nodule\"]+=index_list[i][:23]\n",
    "     #   test_images_dict[\"nodule\"] += index_list[i][23:]"
   ]
  },
  {
   "cell_type": "code",
   "execution_count": null,
   "metadata": {},
   "outputs": [],
   "source": [
    "label_dict = {\"normal\":0,\"opacity\":1 , \"cardiomegaly\" :2 }\n",
    "print(label_dict)"
   ]
  },
  {
   "cell_type": "code",
   "execution_count": null,
   "metadata": {},
   "outputs": [],
   "source": [
    "new_image_dict={}\n",
    "for i in new_dict:\n",
    "    if new_dict[i] in label_dict.keys():\n",
    "        new_image_dict[i] = label_dict[new_dict[i]]"
   ]
  },
  {
   "cell_type": "code",
   "execution_count": null,
   "metadata": {},
   "outputs": [],
   "source": [
    "import shutil,os\n",
    "os.chdir('/media/akki/0C77C1DB5023617A/dataset')"
   ]
  },
  {
   "cell_type": "code",
   "execution_count": null,
   "metadata": {},
   "outputs": [],
   "source": []
  }
 ],
 "metadata": {
  "kernelspec": {
   "display_name": "Python 3",
   "language": "python",
   "name": "python3"
  },
  "language_info": {
   "codemirror_mode": {
    "name": "ipython",
    "version": 3
   },
   "file_extension": ".py",
   "mimetype": "text/x-python",
   "name": "python",
   "nbconvert_exporter": "python",
   "pygments_lexer": "ipython3",
   "version": "3.7.0"
  }
 },
 "nbformat": 4,
 "nbformat_minor": 2
}
